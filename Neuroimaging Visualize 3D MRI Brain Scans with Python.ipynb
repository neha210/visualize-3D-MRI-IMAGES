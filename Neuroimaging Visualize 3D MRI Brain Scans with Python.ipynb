{
 "cells": [
  {
   "cell_type": "code",
   "execution_count": 1,
   "metadata": {},
   "outputs": [
    {
     "name": "stdout",
     "output_type": "stream",
     "text": [
      "Requirement already satisfied: nibabel in c:\\programdata\\anaconda3\\lib\\site-packages (3.2.1)\n",
      "Requirement already satisfied: packaging>=14.3 in c:\\programdata\\anaconda3\\lib\\site-packages (from nibabel) (19.2)\n",
      "Requirement already satisfied: numpy>=1.14 in c:\\programdata\\anaconda3\\lib\\site-packages (from nibabel) (1.16.5)\n",
      "Requirement already satisfied: six in c:\\programdata\\anaconda3\\lib\\site-packages (from packaging>=14.3->nibabel) (1.12.0)\n",
      "Requirement already satisfied: pyparsing>=2.0.2 in c:\\programdata\\anaconda3\\lib\\site-packages (from packaging>=14.3->nibabel) (2.4.2)\n",
      "Note: you may need to restart the kernel to use updated packages.\n"
     ]
    }
   ],
   "source": [
    "pip install nibabel"
   ]
  },
  {
   "cell_type": "code",
   "execution_count": 2,
   "metadata": {},
   "outputs": [
    {
     "name": "stdout",
     "output_type": "stream",
     "text": [
      "Requirement already satisfied: itkwidgets in c:\\programdata\\anaconda3\\lib\\site-packages (0.32.0)\n",
      "Requirement already satisfied: itk-meshtopolydata>=0.6.2 in c:\\programdata\\anaconda3\\lib\\site-packages (from itkwidgets) (0.6.2)\n",
      "Requirement already satisfied: matplotlib in c:\\programdata\\anaconda3\\lib\\site-packages (from itkwidgets) (3.1.1)\n",
      "Requirement already satisfied: numpy in c:\\programdata\\anaconda3\\lib\\site-packages (from itkwidgets) (1.16.5)\n",
      "Requirement already satisfied: itk-core>=5.1.0.post2 in c:\\programdata\\anaconda3\\lib\\site-packages (from itkwidgets) (5.1.2)\n",
      "Requirement already satisfied: itk-filtering>=5.1.0.post2 in c:\\programdata\\anaconda3\\lib\\site-packages (from itkwidgets) (5.1.2)\n",
      "Requirement already satisfied: ipympl>=0.4.1 in c:\\programdata\\anaconda3\\lib\\site-packages (from itkwidgets) (0.5.8)\n",
      "Requirement already satisfied: zstandard in c:\\programdata\\anaconda3\\lib\\site-packages (from itkwidgets) (0.14.1)\n",
      "Requirement already satisfied: ipydatawidgets>=4.0.1 in c:\\programdata\\anaconda3\\lib\\site-packages (from itkwidgets) (4.1.0)\n",
      "Requirement already satisfied: colorcet>=2.0.0 in c:\\programdata\\anaconda3\\lib\\site-packages (from itkwidgets) (2.0.2)\n",
      "Requirement already satisfied: ipywidgets>=7.5.1 in c:\\programdata\\anaconda3\\lib\\site-packages (from itkwidgets) (7.5.1)\n",
      "Requirement already satisfied: six in c:\\programdata\\anaconda3\\lib\\site-packages (from itkwidgets) (1.12.0)\n",
      "Requirement already satisfied: cycler>=0.10 in c:\\programdata\\anaconda3\\lib\\site-packages (from matplotlib->itkwidgets) (0.10.0)\n",
      "Requirement already satisfied: kiwisolver>=1.0.1 in c:\\programdata\\anaconda3\\lib\\site-packages (from matplotlib->itkwidgets) (1.1.0)\n",
      "Requirement already satisfied: pyparsing!=2.0.4,!=2.1.2,!=2.1.6,>=2.0.1 in c:\\programdata\\anaconda3\\lib\\site-packages (from matplotlib->itkwidgets) (2.4.2)\n",
      "Requirement already satisfied: python-dateutil>=2.1 in c:\\programdata\\anaconda3\\lib\\site-packages (from matplotlib->itkwidgets) (2.8.0)\n",
      "Requirement already satisfied: itk-numerics==5.1.2 in c:\\programdata\\anaconda3\\lib\\site-packages (from itk-filtering>=5.1.0.post2->itkwidgets) (5.1.2)\n",
      "Requirement already satisfied: ipykernel>=4.7 in c:\\programdata\\anaconda3\\lib\\site-packages (from ipympl>=0.4.1->itkwidgets) (5.1.2)\n",
      "Requirement already satisfied: cffi>=1.11 in c:\\programdata\\anaconda3\\lib\\site-packages (from zstandard->itkwidgets) (1.12.3)\n",
      "Requirement already satisfied: traittypes>=0.2.0 in c:\\programdata\\anaconda3\\lib\\site-packages (from ipydatawidgets>=4.0.1->itkwidgets) (0.2.1)\n",
      "Requirement already satisfied: pyct>=0.4.4 in c:\\programdata\\anaconda3\\lib\\site-packages (from colorcet>=2.0.0->itkwidgets) (0.4.8)\n",
      "Requirement already satisfied: param>=1.7.0 in c:\\programdata\\anaconda3\\lib\\site-packages (from colorcet>=2.0.0->itkwidgets) (1.10.0)\n",
      "Requirement already satisfied: traitlets>=4.3.1 in c:\\programdata\\anaconda3\\lib\\site-packages (from ipywidgets>=7.5.1->itkwidgets) (4.3.3)\n",
      "Requirement already satisfied: nbformat>=4.2.0 in c:\\programdata\\anaconda3\\lib\\site-packages (from ipywidgets>=7.5.1->itkwidgets) (4.4.0)\n",
      "Requirement already satisfied: ipython>=4.0.0; python_version >= \"3.3\" in c:\\programdata\\anaconda3\\lib\\site-packages (from ipywidgets>=7.5.1->itkwidgets) (7.8.0)\n",
      "Requirement already satisfied: widgetsnbextension~=3.5.0 in c:\\programdata\\anaconda3\\lib\\site-packages (from ipywidgets>=7.5.1->itkwidgets) (3.5.1)\n",
      "Requirement already satisfied: setuptools in c:\\programdata\\anaconda3\\lib\\site-packages (from kiwisolver>=1.0.1->matplotlib->itkwidgets) (41.4.0)\n",
      "Requirement already satisfied: jupyter-client in c:\\programdata\\anaconda3\\lib\\site-packages (from ipykernel>=4.7->ipympl>=0.4.1->itkwidgets) (5.3.3)\n",
      "Requirement already satisfied: tornado>=4.2 in c:\\programdata\\anaconda3\\lib\\site-packages (from ipykernel>=4.7->ipympl>=0.4.1->itkwidgets) (6.0.3)\n",
      "Requirement already satisfied: pycparser in c:\\programdata\\anaconda3\\lib\\site-packages (from cffi>=1.11->zstandard->itkwidgets) (2.19)\n",
      "Requirement already satisfied: decorator in c:\\programdata\\anaconda3\\lib\\site-packages (from traitlets>=4.3.1->ipywidgets>=7.5.1->itkwidgets) (4.4.0)\n",
      "Requirement already satisfied: ipython-genutils in c:\\programdata\\anaconda3\\lib\\site-packages (from traitlets>=4.3.1->ipywidgets>=7.5.1->itkwidgets) (0.2.0)\n",
      "Requirement already satisfied: jupyter-core in c:\\programdata\\anaconda3\\lib\\site-packages (from nbformat>=4.2.0->ipywidgets>=7.5.1->itkwidgets) (4.5.0)\n",
      "Requirement already satisfied: jsonschema!=2.5.0,>=2.4 in c:\\programdata\\anaconda3\\lib\\site-packages (from nbformat>=4.2.0->ipywidgets>=7.5.1->itkwidgets) (3.0.2)\n",
      "Requirement already satisfied: backcall in c:\\programdata\\anaconda3\\lib\\site-packages (from ipython>=4.0.0; python_version >= \"3.3\"->ipywidgets>=7.5.1->itkwidgets) (0.1.0)\n",
      "Requirement already satisfied: prompt-toolkit<2.1.0,>=2.0.0 in c:\\programdata\\anaconda3\\lib\\site-packages (from ipython>=4.0.0; python_version >= \"3.3\"->ipywidgets>=7.5.1->itkwidgets) (2.0.10)\n",
      "Requirement already satisfied: jedi>=0.10 in c:\\programdata\\anaconda3\\lib\\site-packages (from ipython>=4.0.0; python_version >= \"3.3\"->ipywidgets>=7.5.1->itkwidgets) (0.15.1)\n",
      "Requirement already satisfied: pickleshare in c:\\programdata\\anaconda3\\lib\\site-packages (from ipython>=4.0.0; python_version >= \"3.3\"->ipywidgets>=7.5.1->itkwidgets) (0.7.5)\n",
      "Requirement already satisfied: colorama; sys_platform == \"win32\" in c:\\programdata\\anaconda3\\lib\\site-packages (from ipython>=4.0.0; python_version >= \"3.3\"->ipywidgets>=7.5.1->itkwidgets) (0.4.1)\n",
      "Requirement already satisfied: pygments in c:\\programdata\\anaconda3\\lib\\site-packages (from ipython>=4.0.0; python_version >= \"3.3\"->ipywidgets>=7.5.1->itkwidgets) (2.4.2)\n",
      "Requirement already satisfied: notebook>=4.4.1 in c:\\programdata\\anaconda3\\lib\\site-packages (from widgetsnbextension~=3.5.0->ipywidgets>=7.5.1->itkwidgets) (6.0.1)\n",
      "Requirement already satisfied: pywin32>=1.0; sys_platform == \"win32\" in c:\\programdata\\anaconda3\\lib\\site-packages (from jupyter-client->ipykernel>=4.7->ipympl>=0.4.1->itkwidgets) (223)\n",
      "Requirement already satisfied: pyzmq>=13 in c:\\programdata\\anaconda3\\lib\\site-packages (from jupyter-client->ipykernel>=4.7->ipympl>=0.4.1->itkwidgets) (18.1.0)\n",
      "Requirement already satisfied: pyrsistent>=0.14.0 in c:\\programdata\\anaconda3\\lib\\site-packages (from jsonschema!=2.5.0,>=2.4->nbformat>=4.2.0->ipywidgets>=7.5.1->itkwidgets) (0.15.4)\n",
      "Requirement already satisfied: attrs>=17.4.0 in c:\\programdata\\anaconda3\\lib\\site-packages (from jsonschema!=2.5.0,>=2.4->nbformat>=4.2.0->ipywidgets>=7.5.1->itkwidgets) (19.2.0)\n",
      "Requirement already satisfied: wcwidth in c:\\programdata\\anaconda3\\lib\\site-packages (from prompt-toolkit<2.1.0,>=2.0.0->ipython>=4.0.0; python_version >= \"3.3\"->ipywidgets>=7.5.1->itkwidgets) (0.1.7)\n",
      "Requirement already satisfied: parso>=0.5.0 in c:\\programdata\\anaconda3\\lib\\site-packages (from jedi>=0.10->ipython>=4.0.0; python_version >= \"3.3\"->ipywidgets>=7.5.1->itkwidgets) (0.5.1)\n",
      "Requirement already satisfied: Send2Trash in c:\\programdata\\anaconda3\\lib\\site-packages (from notebook>=4.4.1->widgetsnbextension~=3.5.0->ipywidgets>=7.5.1->itkwidgets) (1.5.0)\n",
      "Requirement already satisfied: nbconvert in c:\\programdata\\anaconda3\\lib\\site-packages (from notebook>=4.4.1->widgetsnbextension~=3.5.0->ipywidgets>=7.5.1->itkwidgets) (5.6.0)\n",
      "Requirement already satisfied: prometheus-client in c:\\programdata\\anaconda3\\lib\\site-packages (from notebook>=4.4.1->widgetsnbextension~=3.5.0->ipywidgets>=7.5.1->itkwidgets) (0.7.1)\n",
      "Requirement already satisfied: terminado>=0.8.1 in c:\\programdata\\anaconda3\\lib\\site-packages (from notebook>=4.4.1->widgetsnbextension~=3.5.0->ipywidgets>=7.5.1->itkwidgets) (0.8.2)\n",
      "Requirement already satisfied: jinja2 in c:\\programdata\\anaconda3\\lib\\site-packages (from notebook>=4.4.1->widgetsnbextension~=3.5.0->ipywidgets>=7.5.1->itkwidgets) (2.10.3)\n",
      "Requirement already satisfied: bleach in c:\\programdata\\anaconda3\\lib\\site-packages (from nbconvert->notebook>=4.4.1->widgetsnbextension~=3.5.0->ipywidgets>=7.5.1->itkwidgets) (3.1.0)\n",
      "Requirement already satisfied: mistune<2,>=0.8.1 in c:\\programdata\\anaconda3\\lib\\site-packages (from nbconvert->notebook>=4.4.1->widgetsnbextension~=3.5.0->ipywidgets>=7.5.1->itkwidgets) (0.8.4)\n",
      "Requirement already satisfied: pandocfilters>=1.4.1 in c:\\programdata\\anaconda3\\lib\\site-packages (from nbconvert->notebook>=4.4.1->widgetsnbextension~=3.5.0->ipywidgets>=7.5.1->itkwidgets) (1.4.2)\n",
      "Requirement already satisfied: testpath in c:\\programdata\\anaconda3\\lib\\site-packages (from nbconvert->notebook>=4.4.1->widgetsnbextension~=3.5.0->ipywidgets>=7.5.1->itkwidgets) (0.4.2)\n",
      "Requirement already satisfied: defusedxml in c:\\programdata\\anaconda3\\lib\\site-packages (from nbconvert->notebook>=4.4.1->widgetsnbextension~=3.5.0->ipywidgets>=7.5.1->itkwidgets) (0.6.0)\n",
      "Requirement already satisfied: entrypoints>=0.2.2 in c:\\programdata\\anaconda3\\lib\\site-packages (from nbconvert->notebook>=4.4.1->widgetsnbextension~=3.5.0->ipywidgets>=7.5.1->itkwidgets) (0.3)\n",
      "Requirement already satisfied: MarkupSafe>=0.23 in c:\\programdata\\anaconda3\\lib\\site-packages (from jinja2->notebook>=4.4.1->widgetsnbextension~=3.5.0->ipywidgets>=7.5.1->itkwidgets) (1.1.1)\n",
      "Requirement already satisfied: webencodings in c:\\programdata\\anaconda3\\lib\\site-packages (from bleach->nbconvert->notebook>=4.4.1->widgetsnbextension~=3.5.0->ipywidgets>=7.5.1->itkwidgets) (0.5.1)\n",
      "Note: you may need to restart the kernel to use updated packages.\n"
     ]
    }
   ],
   "source": [
    "pip install itkwidgets"
   ]
  },
  {
   "cell_type": "code",
   "execution_count": 3,
   "metadata": {},
   "outputs": [],
   "source": [
    "# Import all the necessary packages\n",
    "import numpy as np\n",
    "import nibabel as nib                                                     # Read / write access to some common neuroimaging file formats\n",
    "import itk                                                                # Jupyter widgets to visualize images in 2D and 3D\n",
    "import itkwidgets\n",
    "from ipywidgets import interact, interactive, IntSlider, ToggleButtons\n",
    "import matplotlib.pyplot as plt\n",
    "\n",
    "%matplotlib inline\n",
    "import seaborn as sns\n",
    "sns.set_style('darkgrid')"
   ]
  },
  {
   "cell_type": "code",
   "execution_count": 4,
   "metadata": {},
   "outputs": [
    {
     "name": "stdout",
     "output_type": "stream",
     "text": [
      "Type of the image <class 'nibabel.nifti1.Nifti1Image'>\n"
     ]
    }
   ],
   "source": [
    "# Define the image path and load the data\n",
    "image_path = \"./data/images/BRATS_001.nii.gz\"\n",
    "image_obj = nib.load(image_path)\n",
    "print(f'Type of the image {type(image_obj)}')"
   ]
  },
  {
   "cell_type": "code",
   "execution_count": 5,
   "metadata": {},
   "outputs": [
    {
     "data": {
      "text/plain": [
       "numpy.ndarray"
      ]
     },
     "execution_count": 5,
     "metadata": {},
     "output_type": "execute_result"
    }
   ],
   "source": [
    "# Extract data as numpy ndarray\n",
    "image_data = image_obj.get_fdata()\n",
    "type(image_data)"
   ]
  },
  {
   "cell_type": "code",
   "execution_count": 6,
   "metadata": {},
   "outputs": [
    {
     "name": "stdout",
     "output_type": "stream",
     "text": [
      "The image object has the following dimensions: height: 240, width:240, depth:155, channels:4\n"
     ]
    }
   ],
   "source": [
    "# Get the image shape and print it out\n",
    "height, width, depth, channels = image_data.shape\n",
    "print(f\"The image object has the following dimensions: height: {height}, width:{width}, depth:{depth}, channels:{channels}\")"
   ]
  },
  {
   "cell_type": "code",
   "execution_count": 32,
   "metadata": {},
   "outputs": [
    {
     "name": "stdout",
     "output_type": "stream",
     "text": [
      "Plotting Layer 84 Channel 0 of Image\n"
     ]
    },
    {
     "data": {
      "image/png": "[encoded data removed]",
      "text/plain": [
       "<Figure size 432x288 with 1 Axes>"
      ]
     },
     "metadata": {
      "needs_background": "light"
     },
     "output_type": "display_data"
    }
   ],
   "source": [
    "# Select random layer number\n",
    "maxval = 154\n",
    "i = np.random.randint(0, maxval)\n",
    "# Define a channel to look at\n",
    "channel = 0\n",
    "print(f\"Plotting Layer {i} Channel {channel} of Image\")\n",
    "plt.imshow(image_data[:, :, i, channel], cmap='gray')\n",
    "plt.axis('off');"
   ]
  },
  {
   "cell_type": "code",
   "execution_count": 33,
   "metadata": {},
   "outputs": [
    {
     "data": {
      "application/vnd.jupyter.widget-view+json": {
       "model_id": "f1c0f7a3bf704ee19de8c8448a31d9cd",
       "version_major": 2,
       "version_minor": 0
      },
      "text/plain": [
       "interactive(children=(IntSlider(value=77, description='layer', max=154), Output()), _dom_classes=('widget-inte…"
      ]
     },
     "metadata": {},
     "output_type": "display_data"
    }
   ],
   "source": [
    "# Define a function to visualize the data\n",
    "def explore_3dimage(layer):\n",
    "    plt.figure(figsize=(10, 5))\n",
    "    channel = 3\n",
    "    plt.imshow(image_data[:, :, layer, channel], cmap='gray');\n",
    "    plt.title('Explore Layers of Brain MRI', fontsize=20)\n",
    "    plt.axis('off')\n",
    "    return layer\n",
    "    \n",
    "# Run the ipywidgets interact() function to explore the data\n",
    "interact(explore_3dimage, layer=(0, image_data.shape[2] - 1));"
   ]
  },
  {
   "cell_type": "code",
   "execution_count": 34,
   "metadata": {},
   "outputs": [
    {
     "data": {
      "text/plain": [
       "nibabel.nifti1.Nifti1Image"
      ]
     },
     "execution_count": 34,
     "metadata": {},
     "output_type": "execute_result"
    }
   ],
   "source": [
    "# Define the data path and load the data\n",
    "label_path = \"./data/labels/BRATS_001.nii.gz\"\n",
    "label_obj = nib.load(label_path)\n",
    "type(label_obj)"
   ]
  },
  {
   "cell_type": "code",
   "execution_count": 35,
   "metadata": {},
   "outputs": [
    {
     "data": {
      "text/plain": [
       "numpy.ndarray"
      ]
     },
     "execution_count": 35,
     "metadata": {},
     "output_type": "execute_result"
    }
   ],
   "source": [
    "# Extract data labels\n",
    "label_array = label_obj.get_fdata()\n",
    "type(label_array)"
   ]
  },
  {
   "cell_type": "code",
   "execution_count": 36,
   "metadata": {},
   "outputs": [
    {
     "name": "stdout",
     "output_type": "stream",
     "text": [
      "Dimensions of labels data array height: 240, width: 240, depth: 155\n",
      "With the unique values: [0. 1. 2. 3.]\n",
      "Corresponding to the following label categories: \n",
      "0: for normal \n",
      "1: for edema\n",
      "2: for non-enhancing tumor \n",
      "3: for enhancing tumor\n"
     ]
    }
   ],
   "source": [
    "# Extract and print out the shape of the labels data\n",
    "height, width, depth = label_array.shape\n",
    "print(f\"Dimensions of labels data array height: {height}, width: {width}, depth: {depth}\")\n",
    "print(f'With the unique values: {np.unique(label_array)}')\n",
    "print(\"\"\"Corresponding to the following label categories: \n",
    "0: for normal \n",
    "1: for edema\n",
    "2: for non-enhancing tumor \n",
    "3: for enhancing tumor\"\"\")"
   ]
  },
  {
   "cell_type": "code",
   "execution_count": 38,
   "metadata": {},
   "outputs": [
    {
     "data": {
      "image/png": "[encoded data removed]",
      "text/plain": [
       "<Figure size 3600x2160 with 4 Axes>"
      ]
     },
     "metadata": {
      "needs_background": "light"
     },
     "output_type": "display_data"
    }
   ],
   "source": [
    "# Define a single layer for plotting\n",
    "layer = 50\n",
    "# Define a dictionary of class labels\n",
    "classes_dict = {\n",
    "    'Normal': 0.,\n",
    "    'Edema': 1.,\n",
    "    'Non-enhancing tumor': 2.,\n",
    "    'Enhancing tumor': 3. \n",
    "}\n",
    "# Set up for plotting\n",
    "fig, ax = plt.subplots(nrows=1, ncols=4, figsize=(50, 30))\n",
    "for i in range(4):\n",
    "    img_label_str = list(classes_dict.keys())[i]\n",
    "    img = label_array[:,:,layer]\n",
    "    mask = np.where(img == classes_dict[img_label_str], 255, 0)\n",
    "    ax[i].imshow(mask)\n",
    "    ax[i].set_title(f\"Layer {layer} for {img_label_str}\", fontsize=45)\n",
    "    ax[i].axis('off')\n",
    "plt.tight_layout()"
   ]
  },
  {
   "cell_type": "code",
   "execution_count": 39,
   "metadata": {},
   "outputs": [
    {
     "data": {
      "application/vnd.jupyter.widget-view+json": {
       "model_id": "ef37852500f84b7cbdafc5c084380d8a",
       "version_major": 2,
       "version_minor": 0
      },
      "text/plain": [
       "interactive(children=(ToggleButtons(button_style='info', description='Select Class:', options=('Normal', 'Edem…"
      ]
     },
     "metadata": {},
     "output_type": "display_data"
    }
   ],
   "source": [
    "# Create button values\n",
    "select_class = ToggleButtons(\n",
    "    options=['Normal','Edema', 'Non-enhancing tumor', 'Enhancing tumor'],\n",
    "    description='Select Class:',\n",
    "    disabled=False,\n",
    "    button_style='info', \n",
    "    \n",
    ")\n",
    "# Create layer slider\n",
    "select_layer = IntSlider(min=0, max=154, description='Select Layer', continuous_update=False)\n",
    "\n",
    "    \n",
    "# Define a function for plotting images\n",
    "def plot_image(seg_class, layer):\n",
    "    print(f\"Plotting {layer} Layer Label: {seg_class}\")\n",
    "    img_label = classes_dict[seg_class]\n",
    "    mask = np.where(label_array[:,:,layer] == img_label, 255, 0)\n",
    "    plt.figure(figsize=(10,5))\n",
    "    plt.imshow(mask, cmap='gray')\n",
    "    plt.axis('off');\n",
    "\n",
    "# Use the interactive() tool to create the visualization\n",
    "interactive(plot_image, seg_class=select_class, layer=select_layer)"
   ]
  },
  {
   "cell_type": "markdown",
   "metadata": {},
   "source": [
    "done!!!"
   ]
  },
  {
   "cell_type": "code",
   "execution_count": null,
   "metadata": {},
   "outputs": [],
   "source": []
  }
 ],
 "metadata": {
  "kernelspec": {
   "display_name": "Python 3",
   "language": "python",
   "name": "python3"
  },
  "language_info": {
   "codemirror_mode": {
    "name": "ipython",
    "version": 3
   },
   "file_extension": ".py",
   "mimetype": "text/x-python",
   "name": "python",
   "nbconvert_exporter": "python",
   "pygments_lexer": "ipython3",
   "version": "3.7.4"
  }
 },
 "nbformat": 4,
 "nbformat_minor": 2
}
